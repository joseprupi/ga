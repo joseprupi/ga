{
 "cells": [
  {
   "cell_type": "code",
   "execution_count": 2,
   "metadata": {},
   "outputs": [],
   "source": [
    "import random\n",
    "import numpy as np"
   ]
  },
  {
   "cell_type": "code",
   "execution_count": 25,
   "metadata": {},
   "outputs": [],
   "source": [
    "population = 2\n",
    "mutations = 0.25"
   ]
  },
  {
   "cell_type": "code",
   "execution_count": 4,
   "metadata": {},
   "outputs": [
    {
     "name": "stdout",
     "output_type": "stream",
     "text": [
      "[3, 2, 3, 5]\n"
     ]
    }
   ],
   "source": [
    "\n",
    "colors = [0,1,2,3,4,5]\n",
    "\n",
    "board = random.choices(colors,k=4)\n",
    "print(board)"
   ]
  },
  {
   "cell_type": "code",
   "execution_count": 312,
   "metadata": {},
   "outputs": [],
   "source": [
    "def score(board, choice):\n",
    "\n",
    "    tmp_board = board.copy()\n",
    "\n",
    "    in_place = 0\n",
    "    in_place_list = []\n",
    "    same_color = 0\n",
    "\n",
    "    for i,c in enumerate(choice):\n",
    "        if choice[i] == board[i]:\n",
    "            in_place += 1\n",
    "            in_place_list.append(i)\n",
    "            tmp_board[i] = -1\n",
    "\n",
    "    for i,c in enumerate(choice):\n",
    "        if i not in in_place_list:\n",
    "            if c in tmp_board:\n",
    "                same_color += 1\n",
    "\n",
    "    #return (2 * in_place) + same_color\n",
    "    return (2 * in_place)\n"
   ]
  },
  {
   "cell_type": "code",
   "execution_count": 137,
   "metadata": {},
   "outputs": [],
   "source": [
    "def ga2(array, population, mutations):\n",
    "\n",
    "    score_memoization = {}\n",
    "\n",
    "    def score(board, choice):\n",
    "        \n",
    "        key = tuple(choice)\n",
    "        \n",
    "        # if key in score_memoization:\n",
    "        #     return score_memoization[key]\n",
    "\n",
    "        tmp_board = board.copy()\n",
    "\n",
    "        in_place = 0\n",
    "        in_place_list = set()\n",
    "        same_color = 0\n",
    "\n",
    "        for i in range(len(choice)):\n",
    "            if choice[i] == board[i]:\n",
    "                in_place += 1\n",
    "                in_place_list.add(i)\n",
    "                tmp_board[i] = -1\n",
    "\n",
    "        for i,c in enumerate(choice):\n",
    "            if i not in in_place_list and c in tmp_board:\n",
    "                same_color += 1\n",
    "\n",
    "        score = (3 * in_place) + same_color\n",
    "        #score = in_place\n",
    "        score_memoization[key] = score\n",
    "\n",
    "        return score\n",
    "\n",
    "    mid = 4//2\n",
    "\n",
    "    mem = np.random.randint(6, size=(2 * population, 4))\n",
    "    scores = np.zeros((2 * population))\n",
    "    bottom = list(range(len(mem)))\n",
    "\n",
    "    for i in range(1000000):\n",
    "        \n",
    "        # Bottom will contain all the random individuals generated when starting the execution\n",
    "        # and the new individuals after the first iteration. Bottom means the bottom of the list\n",
    "        # sorted by score\n",
    "        for k in bottom:\n",
    "            scores[k] = score(array, mem[k])\n",
    "\n",
    "        # Check if the solution has been found\n",
    "        max_score = np.argmax(scores)\n",
    "        if scores[max_score] == 12:\n",
    "            return i, len(score_memoization)\n",
    "\n",
    "        # Select the population of individuals according to the score function\n",
    "        top_n_scores = np.argpartition(scores, population)\n",
    "        top = top_n_scores[population:]\n",
    "        bottom = top_n_scores[:population]\n",
    "\n",
    "        # Create #population new elements from the crossover and mutation\n",
    "        for j in range(population):\n",
    "\n",
    "            # Crossover -> Select parents from the top individuals\n",
    "            #\n",
    "            # I tried this with random choice and just picking a random position\n",
    "            # from the top and the next one and the result is the same but way faster\n",
    "            # It might be because of either the randomization of the initial population or maybe\n",
    "            # the implementation of argpartition? or both?\n",
    "            \n",
    "            r = random.randrange(len(top))  \n",
    "            idx = [r, (r+1)%len(top)]\n",
    "            parents = [top[idx[0]],top[idx[1]]]\n",
    "            \n",
    "            mem[bottom[j]][0:mid] = mem[parents[0]][0:mid]\n",
    "            mem[bottom[j]][-(mid):] = mem[parents[1]][-(mid):]\n",
    "\n",
    "            # Mutation -> Mutate the bits\n",
    "            #\n",
    "            # The random choice of the bits to mutate is the most costly of the implementation\n",
    "            # It seems there has to be some way to speed up this \n",
    "            idx = np.random.choice([0,1,2,3,4,5,6], p=[(1-mutations), mutations/6,mutations/6,mutations/6,mutations/6,mutations/6,mutations/6],size=(4))\n",
    "\n",
    "            for k in range(len(idx)):\n",
    "                mem[bottom[j]][k] = (mem[bottom[j]][k] + idx[k])%6"
   ]
  },
  {
   "cell_type": "code",
   "execution_count": 134,
   "metadata": {},
   "outputs": [
    {
     "data": {
      "text/plain": [
       "(11, 22)"
      ]
     },
     "execution_count": 134,
     "metadata": {},
     "output_type": "execute_result"
    }
   ],
   "source": [
    "ga2(board, population, mutations)"
   ]
  },
  {
   "cell_type": "code",
   "execution_count": 316,
   "metadata": {},
   "outputs": [],
   "source": [
    "def ga(board):\n",
    "\n",
    "    mem = np.random.randint(6, size=(2 * population, 4))\n",
    "\n",
    "    scores = np.zeros((2 * population))\n",
    "\n",
    "    for i in range(100000000):\n",
    "\n",
    "        for k, matrix in enumerate(mem):\n",
    "            scores[k] = score(board, matrix)\n",
    "\n",
    "        max_score = np.argmax(scores)\n",
    "\n",
    "        if scores[max_score] == 8:\n",
    "            return i\n",
    "\n",
    "        top_n_scores = np.argpartition(scores, -population)\n",
    "\n",
    "        top = top_n_scores[-population:]\n",
    "        bottom = top_n_scores[:-population]\n",
    "\n",
    "        mid = 4//2\n",
    "\n",
    "        for j in range(population):\n",
    "            \n",
    "            r = random.randrange(len(top))  \n",
    "            idx = [r, (r+1)%len(top)]\n",
    "            parents = [top[idx[0]],top[idx[1]]]\n",
    "            \n",
    "            mem[bottom[j]][0:mid] = mem[parents[0]][0:mid]\n",
    "            mem[bottom[j]][-(mid):] = mem[parents[1]][-(mid):]\n",
    "\n",
    "            idx = np.random.choice([0,1,2,3,4,5,6], p=[(1-mutations), mutations/6,mutations/6,mutations/6,mutations/6,mutations/6,mutations/6],size=(4))\n",
    "\n",
    "            for k in range(len(idx)):\n",
    "                mem[bottom[j]][k] = (mem[bottom[j]][k] + idx[k])%6\n"
   ]
  },
  {
   "cell_type": "code",
   "execution_count": 142,
   "metadata": {},
   "outputs": [
    {
     "name": "stdout",
     "output_type": "stream",
     "text": [
      "16.653\n",
      "42.922\n"
     ]
    }
   ],
   "source": [
    "trials = 1000\n",
    "\n",
    "population = 4\n",
    "mutations = 0.25\n",
    "\n",
    "accum1 = 0\n",
    "accum2 = 0\n",
    "\n",
    "for i in range(trials):\n",
    "    iters, mem = ga2(board, population, mutations)\n",
    "    accum1 += iters\n",
    "    accum2 += mem\n",
    "\n",
    "print (accum1/trials)\n",
    "print (accum2/trials)"
   ]
  },
  {
   "cell_type": "code",
   "execution_count": 339,
   "metadata": {},
   "outputs": [
    {
     "name": "stdout",
     "output_type": "stream",
     "text": [
      "16.0621\n"
     ]
    }
   ],
   "source": [
    "trials = 10000\n",
    "\n",
    "accum = 0\n",
    "\n",
    "for i in range(trials):\n",
    " #accum += ga(board, population, mutations)\n",
    " accum += ga(board)\n",
    "\n",
    "print (accum/trials)"
   ]
  },
  {
   "cell_type": "code",
   "execution_count": 61,
   "metadata": {},
   "outputs": [
    {
     "data": {
      "text/plain": [
       "[0, 0, 1, 5]"
      ]
     },
     "execution_count": 61,
     "metadata": {},
     "output_type": "execute_result"
    }
   ],
   "source": [
    "board"
   ]
  },
  {
   "cell_type": "code",
   "execution_count": 44,
   "metadata": {},
   "outputs": [
    {
     "data": {
      "text/plain": [
       "array([0, 0, 6, 0, 0, 0, 0, 0, 0, 0])"
      ]
     },
     "execution_count": 44,
     "metadata": {},
     "output_type": "execute_result"
    }
   ],
   "source": [
    "import numpy as np\n",
    "\n",
    "mutations = 0.2\n",
    "\n",
    "idx = np.random.choice([0,1,2,3,4,5,6], p=[(1-mutations), mutations/6,mutations/6,mutations/6,mutations/6,mutations/6,mutations/6],size=(10))\n",
    "\n",
    "idx"
   ]
  },
  {
   "cell_type": "code",
   "execution_count": 29,
   "metadata": {},
   "outputs": [
    {
     "data": {
      "text/plain": [
       "array([2, 5, 4, 5, 0, 1, 6, 0, 2, 3])"
      ]
     },
     "execution_count": 29,
     "metadata": {},
     "output_type": "execute_result"
    }
   ],
   "source": [
    "idx"
   ]
  },
  {
   "cell_type": "code",
   "execution_count": 3,
   "metadata": {},
   "outputs": [],
   "source": [
    "4//2\n",
    "l = [0,1,2,3]"
   ]
  },
  {
   "cell_type": "code",
   "execution_count": 6,
   "metadata": {},
   "outputs": [
    {
     "data": {
      "text/plain": [
       "[2, 3]"
      ]
     },
     "execution_count": 6,
     "metadata": {},
     "output_type": "execute_result"
    }
   ],
   "source": [
    "l[-(2):]"
   ]
  },
  {
   "cell_type": "code",
   "execution_count": 53,
   "metadata": {},
   "outputs": [
    {
     "name": "stdout",
     "output_type": "stream",
     "text": [
      "148\n",
      "[0 0 1 5]\n"
     ]
    }
   ],
   "source": [
    "ga(board)"
   ]
  },
  {
   "cell_type": "code",
   "execution_count": 51,
   "metadata": {},
   "outputs": [
    {
     "data": {
      "text/plain": [
       "array([1, 1, 1, 0])"
      ]
     },
     "execution_count": 51,
     "metadata": {},
     "output_type": "execute_result"
    }
   ],
   "source": [
    "np.random.choice([0,1], p=[(1-mutations), mutations],size=(4))"
   ]
  }
 ],
 "metadata": {
  "kernelspec": {
   "display_name": "Python 3",
   "language": "python",
   "name": "python3"
  },
  "language_info": {
   "codemirror_mode": {
    "name": "ipython",
    "version": 3
   },
   "file_extension": ".py",
   "mimetype": "text/x-python",
   "name": "python",
   "nbconvert_exporter": "python",
   "pygments_lexer": "ipython3",
   "version": "3.9.2"
  },
  "orig_nbformat": 4
 },
 "nbformat": 4,
 "nbformat_minor": 2
}
