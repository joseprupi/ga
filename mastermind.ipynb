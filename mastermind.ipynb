{
 "cells": [
  {
   "cell_type": "code",
   "execution_count": 2,
   "metadata": {},
   "outputs": [],
   "source": [
    "import random\n",
    "import numpy as np"
   ]
  },
  {
   "cell_type": "code",
   "execution_count": 3,
   "metadata": {},
   "outputs": [],
   "source": [
    "population = 2\n",
    "mutations = 0.25"
   ]
  },
  {
   "cell_type": "code",
   "execution_count": 4,
   "metadata": {},
   "outputs": [
    {
     "name": "stdout",
     "output_type": "stream",
     "text": [
      "[1, 0, 2, 2]\n"
     ]
    }
   ],
   "source": [
    "\n",
    "colors = [0,1,2,3,4,5]\n",
    "\n",
    "board = random.choices(colors,k=4)\n",
    "print(board)"
   ]
  },
  {
   "cell_type": "code",
   "execution_count": 5,
   "metadata": {},
   "outputs": [],
   "source": [
    "def ga(array, population, mutations):\n",
    "\n",
    "    score_memoization = {}\n",
    "\n",
    "    def score(board, choice):\n",
    "        \n",
    "        key = tuple(choice)\n",
    "        \n",
    "        # if key in score_memoization:\n",
    "        #     return score_memoization[key]\n",
    "\n",
    "        tmp_board = board.copy()\n",
    "\n",
    "        in_place = 0\n",
    "        in_place_list = set()\n",
    "        same_color = 0\n",
    "\n",
    "        for i in range(len(choice)):\n",
    "            if choice[i] == board[i]:\n",
    "                in_place += 1\n",
    "                in_place_list.add(i)\n",
    "                tmp_board[i] = -1\n",
    "\n",
    "        for i,c in enumerate(choice):\n",
    "            if i not in in_place_list and c in tmp_board:\n",
    "                same_color += 1\n",
    "\n",
    "        #score = (2 * in_place) + same_color\n",
    "        score = in_place\n",
    "        score_memoization[key] = score\n",
    "\n",
    "        return score\n",
    "\n",
    "    mid = 4//2\n",
    "\n",
    "    mem = np.random.randint(6, size=(2 * population, 4))\n",
    "    scores = np.zeros((2 * population))\n",
    "    bottom = list(range(len(mem)))\n",
    "\n",
    "    for i in range(1000000):\n",
    "        \n",
    "        # Bottom will contain all the random individuals generated when starting the execution\n",
    "        # and the new individuals after the first iteration. Bottom means the bottom of the list\n",
    "        # sorted by score\n",
    "        for k in bottom:\n",
    "            scores[k] = score(array, mem[k])\n",
    "\n",
    "        # Check if the solution has been found\n",
    "        max_score = np.argmax(scores)\n",
    "        if scores[max_score] == 4:\n",
    "            return i, len(score_memoization)\n",
    "\n",
    "        # Select the population of individuals according to the score function\n",
    "        top_n_scores = np.argpartition(scores, population)\n",
    "        top = top_n_scores[population:]\n",
    "        bottom = top_n_scores[:population]\n",
    "\n",
    "        # Create #population new elements from the crossover and mutation\n",
    "        for j in range(population):\n",
    "\n",
    "            # Crossover -> Select parents from the top individuals\n",
    "            #\n",
    "            # I tried this with random choice and just picking a random position\n",
    "            # from the top and the next one and the result is the same but way faster\n",
    "            # It might be because of either the randomization of the initial population or maybe\n",
    "            # the implementation of argpartition? or both?\n",
    "            \n",
    "            r = random.randrange(len(top))  \n",
    "            idx = [r, (r+1)%len(top)]\n",
    "            parents = [top[idx[0]],top[idx[1]]]\n",
    "            \n",
    "            mem[bottom[j]][0:mid] = mem[parents[0]][0:mid]\n",
    "            mem[bottom[j]][-(mid):] = mem[parents[1]][-(mid):]\n",
    "\n",
    "            # Mutation -> Mutate the bits\n",
    "            #\n",
    "            # The random choice of the bits to mutate is the most costly of the implementation\n",
    "            # It seems there has to be some way to speed up this \n",
    "            idx = np.random.choice([0,1,2,3,4,5,6], p=[(1-mutations), mutations/6,mutations/6,mutations/6,mutations/6,mutations/6,mutations/6],size=(4))\n",
    "\n",
    "            for k in range(len(idx)):\n",
    "                mem[bottom[j]][k] = (mem[bottom[j]][k] + idx[k])%6"
   ]
  },
  {
   "cell_type": "code",
   "execution_count": 8,
   "metadata": {},
   "outputs": [
    {
     "name": "stdout",
     "output_type": "stream",
     "text": [
      "34.828\n",
      "36.11\n"
     ]
    }
   ],
   "source": [
    "trials = 1000\n",
    "\n",
    "accum1 = 0\n",
    "accum2 = 0\n",
    "\n",
    "for i in range(trials):\n",
    "    iters, mem = ga(board, population, mutations)\n",
    "    accum1 += iters\n",
    "    accum2 += mem\n",
    "\n",
    "print (accum1/trials)\n",
    "print (accum2/trials)"
   ]
  }
 ],
 "metadata": {
  "kernelspec": {
   "display_name": "Python 3",
   "language": "python",
   "name": "python3"
  },
  "language_info": {
   "codemirror_mode": {
    "name": "ipython",
    "version": 3
   },
   "file_extension": ".py",
   "mimetype": "text/x-python",
   "name": "python",
   "nbconvert_exporter": "python",
   "pygments_lexer": "ipython3",
   "version": "3.9.2"
  },
  "orig_nbformat": 4
 },
 "nbformat": 4,
 "nbformat_minor": 2
}
