{
 "cells": [
  {
   "cell_type": "code",
   "execution_count": 1,
   "metadata": {},
   "outputs": [],
   "source": [
    "import random\n",
    "import numpy as np"
   ]
  },
  {
   "cell_type": "code",
   "execution_count": 103,
   "metadata": {},
   "outputs": [],
   "source": [
    "population = 4\n",
    "mutations = 0.25"
   ]
  },
  {
   "cell_type": "code",
   "execution_count": 14,
   "metadata": {},
   "outputs": [
    {
     "name": "stdout",
     "output_type": "stream",
     "text": [
      "[0, 5, 4, 3]\n"
     ]
    }
   ],
   "source": [
    "\n",
    "colors = [0,1,2,3,4,5]\n",
    "\n",
    "board = random.choices(colors,k=4)\n",
    "print(board)"
   ]
  },
  {
   "cell_type": "code",
   "execution_count": 86,
   "metadata": {},
   "outputs": [
    {
     "name": "stdout",
     "output_type": "stream",
     "text": [
      "[0, 0, 3, 1]\n"
     ]
    }
   ],
   "source": [
    "choice = random.choices(colors,k=4)\n",
    "print(choice)\n",
    "\n",
    "def score(board, choice):\n",
    "\n",
    "    tmp_board = board.copy()\n",
    "\n",
    "    in_place = 0\n",
    "    in_place_list = []\n",
    "    same_color = 0\n",
    "\n",
    "    for i,c in enumerate(choice):\n",
    "        if choice[i] == board[i]:\n",
    "            in_place += 1\n",
    "            in_place_list.append(i)\n",
    "            tmp_board[i] = -1\n",
    "\n",
    "    for i,c in enumerate(choice):\n",
    "        if i not in in_place_list:\n",
    "            if c in tmp_board:\n",
    "                same_color += 1\n",
    "\n",
    "    return (2 * in_place) + same_color\n",
    "    #return (2 * in_place)\n"
   ]
  },
  {
   "cell_type": "code",
   "execution_count": 104,
   "metadata": {},
   "outputs": [],
   "source": [
    "def ga(board):\n",
    "\n",
    "    mem = np.random.randint(6, size=(2 * population, 4))\n",
    "\n",
    "    scores = np.zeros((2 * population))\n",
    "\n",
    "    for i in range(100000000):\n",
    "\n",
    "        for k, matrix in enumerate(mem):\n",
    "            scores[k] = score(board, matrix)\n",
    "\n",
    "        max_score = np.argmax(scores)\n",
    "\n",
    "        if scores[max_score] == 8:\n",
    "            print(i)\n",
    "            print(mem[max_score])  # use appropriate colormap here\n",
    "            break\n",
    "\n",
    "        top_n_scores = np.argpartition(scores, -population)\n",
    "\n",
    "        top = top_n_scores[-population:]\n",
    "        bottom = top_n_scores[:-population]\n",
    "\n",
    "        mid = 4//2\n",
    "\n",
    "        for j in range(population):\n",
    "            \n",
    "            r = random.randrange(len(top))  \n",
    "            idx = [r, (r+1)%len(top)]\n",
    "            parents = [top[idx[0]],top[idx[1]]]\n",
    "            \n",
    "            mem[bottom[j]][0:mid] = mem[parents[0]][0:mid]\n",
    "            mem[bottom[j]][-(mid):] = mem[parents[1]][-(mid):]\n",
    "\n",
    "            idx = np.random.choice([0,1,2,3,4,5,6], p=[(1-mutations), mutations/6,mutations/6,mutations/6,mutations/6,mutations/6,mutations/6],size=(4))\n",
    "\n",
    "            for k in range(len(idx)):\n",
    "                mem[bottom[j]][k] = (mem[bottom[j]][k] + idx[k])%6\n"
   ]
  },
  {
   "cell_type": "code",
   "execution_count": 105,
   "metadata": {},
   "outputs": [
    {
     "name": "stdout",
     "output_type": "stream",
     "text": [
      "37\n",
      "[0 5 4 3]\n"
     ]
    }
   ],
   "source": [
    "ga(board)"
   ]
  },
  {
   "cell_type": "code",
   "execution_count": 61,
   "metadata": {},
   "outputs": [
    {
     "data": {
      "text/plain": [
       "[0, 0, 1, 5]"
      ]
     },
     "execution_count": 61,
     "metadata": {},
     "output_type": "execute_result"
    }
   ],
   "source": [
    "board"
   ]
  },
  {
   "cell_type": "code",
   "execution_count": 44,
   "metadata": {},
   "outputs": [
    {
     "data": {
      "text/plain": [
       "array([0, 0, 6, 0, 0, 0, 0, 0, 0, 0])"
      ]
     },
     "execution_count": 44,
     "metadata": {},
     "output_type": "execute_result"
    }
   ],
   "source": [
    "import numpy as np\n",
    "\n",
    "mutations = 0.2\n",
    "\n",
    "idx = np.random.choice([0,1,2,3,4,5,6], p=[(1-mutations), mutations/6,mutations/6,mutations/6,mutations/6,mutations/6,mutations/6],size=(10))\n",
    "\n",
    "idx"
   ]
  },
  {
   "cell_type": "code",
   "execution_count": 29,
   "metadata": {},
   "outputs": [
    {
     "data": {
      "text/plain": [
       "array([2, 5, 4, 5, 0, 1, 6, 0, 2, 3])"
      ]
     },
     "execution_count": 29,
     "metadata": {},
     "output_type": "execute_result"
    }
   ],
   "source": [
    "idx"
   ]
  },
  {
   "cell_type": "code",
   "execution_count": 3,
   "metadata": {},
   "outputs": [],
   "source": [
    "4//2\n",
    "l = [0,1,2,3]"
   ]
  },
  {
   "cell_type": "code",
   "execution_count": 6,
   "metadata": {},
   "outputs": [
    {
     "data": {
      "text/plain": [
       "[2, 3]"
      ]
     },
     "execution_count": 6,
     "metadata": {},
     "output_type": "execute_result"
    }
   ],
   "source": [
    "l[-(2):]"
   ]
  },
  {
   "cell_type": "code",
   "execution_count": 53,
   "metadata": {},
   "outputs": [
    {
     "name": "stdout",
     "output_type": "stream",
     "text": [
      "148\n",
      "[0 0 1 5]\n"
     ]
    }
   ],
   "source": [
    "ga(board)"
   ]
  },
  {
   "cell_type": "code",
   "execution_count": 51,
   "metadata": {},
   "outputs": [
    {
     "data": {
      "text/plain": [
       "array([1, 1, 1, 0])"
      ]
     },
     "execution_count": 51,
     "metadata": {},
     "output_type": "execute_result"
    }
   ],
   "source": [
    "np.random.choice([0,1], p=[(1-mutations), mutations],size=(4))"
   ]
  }
 ],
 "metadata": {
  "kernelspec": {
   "display_name": "Python 3",
   "language": "python",
   "name": "python3"
  },
  "language_info": {
   "codemirror_mode": {
    "name": "ipython",
    "version": 3
   },
   "file_extension": ".py",
   "mimetype": "text/x-python",
   "name": "python",
   "nbconvert_exporter": "python",
   "pygments_lexer": "ipython3",
   "version": "3.9.2"
  },
  "orig_nbformat": 4
 },
 "nbformat": 4,
 "nbformat_minor": 2
}
