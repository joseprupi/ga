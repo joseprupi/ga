{
 "cells": [
  {
   "cell_type": "code",
   "execution_count": 9,
   "metadata": {},
   "outputs": [
    {
     "name": "stdout",
     "output_type": "stream",
     "text": [
      "The line_profiler extension is already loaded. To reload it, use:\n",
      "  %reload_ext line_profiler\n"
     ]
    }
   ],
   "source": [
    "import random\n",
    "\n",
    "import numpy as np\n",
    "import matplotlib.pyplot as plt\n",
    "\n",
    "%load_ext line_profiler"
   ]
  },
  {
   "cell_type": "code",
   "execution_count": 10,
   "metadata": {},
   "outputs": [],
   "source": [
    "population = 500\n",
    "mutations = 0.005"
   ]
  },
  {
   "cell_type": "code",
   "execution_count": 11,
   "metadata": {},
   "outputs": [
    {
     "data": {
      "image/png": "[encoded data removed]",
      "text/plain": [
       "<Figure size 432x288 with 1 Axes>"
      ]
     },
     "metadata": {
      "needs_background": "light"
     },
     "output_type": "display_data"
    }
   ],
   "source": [
    "img = np.random.randint(2, size=(15,15))\n",
    "plt.imshow(img, cmap=plt.cm.gray)  # use appropriate colormap here\n",
    "plt.show()"
   ]
  },
  {
   "cell_type": "code",
   "execution_count": 12,
   "metadata": {},
   "outputs": [],
   "source": [
    "def ga(array, population, mutations):\n",
    "\n",
    "    def score(matrix1, matrix2):\n",
    "        return (matrix1 == matrix2).sum()\n",
    "\n",
    "    rows = array.shape[0]\n",
    "    columns = array.shape[1]\n",
    "    mid = rows//2\n",
    "\n",
    "    mem = np.random.randint(2, size=(2 * population, rows, columns))\n",
    "    scores = np.zeros((2 * population))\n",
    "    bottom = list(range(len(mem)))\n",
    "\n",
    "    for i in range(1000000):\n",
    "        \n",
    "        # Bottom will contain all the random individuals generated when starting the execution\n",
    "        # and the new individuals after the first iteration. Bottom means the bottom of the list\n",
    "        # sorted by score\n",
    "        for k in bottom:\n",
    "            scores[k] = score(mem[k], array)\n",
    "\n",
    "        # Check if the solution has been found\n",
    "        max_score = np.argmax(scores)\n",
    "        if scores[max_score] == rows * columns:\n",
    "            print(i)\n",
    "            plt.imshow(mem[max_score], cmap=plt.cm.gray)  # use appropriate colormap here\n",
    "            plt.show()\n",
    "            break\n",
    "\n",
    "        # Select the population of individuals according to the score function\n",
    "        top_n_scores = np.argpartition(scores, population)\n",
    "        top = top_n_scores[population:]\n",
    "        bottom = top_n_scores[:population]\n",
    "\n",
    "        # Create #population new elements from the crossover and mutation\n",
    "        for j in range(population):\n",
    "            \n",
    "            # Crossover -> Select parents from the top individuals\n",
    "            #\n",
    "            # I tried this with random choice and just picking a random position\n",
    "            # from the top and the next one and the result is the same but way faster\n",
    "            # It might be because of either the randomization of the initial population or maybe\n",
    "            # the implementation of argpartition? or both?\n",
    "            r = random.randrange(len(top))  \n",
    "            idx = [r, (r+1)%len(top)]\n",
    "            parents = [top[idx[0]],top[idx[1]]]\n",
    "            \n",
    "            mem[bottom[j]][0:mid] = mem[parents[0]][0:mid]\n",
    "            mem[bottom[j]][-(mid+1):] = mem[parents[1]][-(mid+1):]\n",
    "\n",
    "            # Mutation -> Mutate the bits\n",
    "            #\n",
    "            # The random choice of the bits to mutate is the most costly of the implementation\n",
    "            # It seems there has to be some way to speed up this \n",
    "            idx = np.random.choice([0,1], p=[(1-mutations), mutations],size=(rows,columns))\n",
    "            mem[bottom[j]] = abs(mem[bottom[j]] - idx)\n"
   ]
  },
  {
   "cell_type": "code",
   "execution_count": 14,
   "metadata": {},
   "outputs": [
    {
     "name": "stdout",
     "output_type": "stream",
     "text": [
      "158\n"
     ]
    },
    {
     "data": {
      "image/png": "[encoded data removed]",
      "text/plain": [
       "<Figure size 432x288 with 1 Axes>"
      ]
     },
     "metadata": {
      "needs_background": "light"
     },
     "output_type": "display_data"
    }
   ],
   "source": [
    "ga(img, population, mutations)"
   ]
  },
  {
   "cell_type": "code",
   "execution_count": 8,
   "metadata": {},
   "outputs": [
    {
     "name": "stdout",
     "output_type": "stream",
     "text": [
      "153\n"
     ]
    },
    {
     "data": {
      "image/png": "[encoded data removed]",
      "text/plain": [
       "<Figure size 432x288 with 1 Axes>"
      ]
     },
     "metadata": {
      "needs_background": "light"
     },
     "output_type": "display_data"
    },
    {
     "name": "stdout",
     "output_type": "stream",
     "text": [
      "Timer unit: 1e-09 s\n",
      "\n",
      "Total time: 2.96298 s\n",
      "File: /tmp/ipykernel_14420/788821013.py\n",
      "Function: ga at line 1\n",
      "\n",
      "Line #      Hits         Time  Per Hit   % Time  Line Contents\n",
      "==============================================================\n",
      "     1                                           def ga(array, population, mutations):\n",
      "     2                                           \n",
      "     3         1       1343.0   1343.0      0.0      def score(matrix1, matrix2):\n",
      "     4                                                   return (matrix1 == matrix2).sum()\n",
      "     5                                           \n",
      "     6         1       2825.0   2825.0      0.0      rows = array.shape[0]\n",
      "     7         1        591.0    591.0      0.0      columns = array.shape[1]\n",
      "     8         1        551.0    551.0      0.0      mid = rows//2\n",
      "     9                                           \n",
      "    10         1    1690138.0 1690138.0      0.1      mem = np.random.randint(2, size=(2 * population, rows, columns))\n",
      "    11         1       5861.0   5861.0      0.0      scores = np.zeros((2 * population))\n",
      "    12         1      28503.0  28503.0      0.0      bottom = list(range(len(mem)))\n",
      "    13                                           \n",
      "    14       154      29978.0    194.7      0.0      for i in range(1000000):\n",
      "    15                                           \n",
      "    16     77500   16301978.0    210.3      0.6          for k in bottom:\n",
      "    17     77500  258749731.0   3338.7      8.7              scores[k] = score(mem[k], array)\n",
      "    18                                           \n",
      "    19       154     756962.0   4915.3      0.0          max_score = np.argmax(scores)\n",
      "    20                                           \n",
      "    21       153     166204.0   1086.3      0.0          if scores[max_score] == rows * columns:\n",
      "    22         1      45055.0  45055.0      0.0              print(i)\n",
      "    23         1   12836250.0 12836250.0      0.4              plt.imshow(mem[max_score], cmap=plt.cm.gray)  # use appropriate colormap here\n",
      "    24         1   72718236.0 72718236.0      2.5              plt.show()\n",
      "    25         1        341.0    341.0      0.0              break\n",
      "    26                                           \n",
      "    27       153    2098129.0  13713.3      0.1          top_n_scores = np.argpartition(scores, population)\n",
      "    28       153      87328.0    570.8      0.0          top = top_n_scores[population:]\n",
      "    29       153      74419.0    486.4      0.0          bottom = top_n_scores[:population]\n",
      "    30                                           \n",
      "    31                                           \n",
      "    32     76500   13785276.0    180.2      0.5          for j in range(population):\n",
      "    33                                                       \n",
      "    34                                                       # I tried this with random choice and just picking a random position\n",
      "    35                                                       # from the top and the next one and the result is the same but way faster\n",
      "    36                                                       # It might be because of either the randomization of the initial population or maybe\n",
      "    37                                                       # the implementation of argpartition? or both?\n",
      "    38     76500  134619661.0   1759.7      4.5              r = random.randrange(len(top))  \n",
      "    39     76500   36802093.0    481.1      1.2              idx = [r, (r+1)%len(top)]\n",
      "    40     76500   36745681.0    480.3      1.2              parents = [top[idx[0]],top[idx[1]]]\n",
      "    41                                                       \n",
      "    42     76500  108777423.0   1421.9      3.7              mem[bottom[j]][0:mid] = mem[parents[0]][0:mid]\n",
      "    43     76500  111056129.0   1451.7      3.7              mem[bottom[j]][-(mid+1):] = mem[parents[1]][-(mid+1):]\n",
      "    44                                           \n",
      "    45                                                       # The random choice of the bits to mutate is the most costly of the implementation\n",
      "    46                                                       # It seems there has to be some way to speed up this \n",
      "    47     76500 1937108883.0  25321.7     65.4              idx = np.random.choice([0,1], p=[(1-mutations), mutations],size=(rows,columns))\n",
      "    48     76500  218491417.0   2856.1      7.4              mem[bottom[j]] = abs(mem[bottom[j]] - idx)"
     ]
    }
   ],
   "source": [
    "%lprun -f ga ga(img, population, mutations)"
   ]
  }
 ],
 "metadata": {
  "kernelspec": {
   "display_name": "Python 3",
   "language": "python",
   "name": "python3"
  },
  "language_info": {
   "codemirror_mode": {
    "name": "ipython",
    "version": 3
   },
   "file_extension": ".py",
   "mimetype": "text/x-python",
   "name": "python",
   "nbconvert_exporter": "python",
   "pygments_lexer": "ipython3",
   "version": "3.9.2"
  },
  "orig_nbformat": 4
 },
 "nbformat": 4,
 "nbformat_minor": 2
}
