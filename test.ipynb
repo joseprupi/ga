{
 "cells": [
  {
   "cell_type": "code",
   "execution_count": 6,
   "metadata": {},
   "outputs": [],
   "source": [
    "import random\n",
    "\n",
    "import numpy as np\n",
    "import matplotlib.pyplot as plt\n",
    "\n",
    "%load_ext line_profiler"
   ]
  },
  {
   "cell_type": "code",
   "execution_count": 77,
   "metadata": {},
   "outputs": [],
   "source": [
    "population = 4\n",
    "mutations = 0.005"
   ]
  },
  {
   "cell_type": "code",
   "execution_count": 66,
   "metadata": {},
   "outputs": [
    {
     "data": {
      "image/png": "[encoded data removed]",
      "text/plain": [
       "<Figure size 432x288 with 1 Axes>"
      ]
     },
     "metadata": {
      "needs_background": "light"
     },
     "output_type": "display_data"
    }
   ],
   "source": [
    "img = np.random.randint(2, size=(15,15))\n",
    "plt.imshow(img, cmap=plt.cm.gray)  # use appropriate colormap here\n",
    "plt.show()"
   ]
  },
  {
   "cell_type": "code",
   "execution_count": 125,
   "metadata": {},
   "outputs": [],
   "source": [
    "def ga(img, population, mutations):\n",
    "\n",
    "    def score(matrix1, matrix2):\n",
    "        return (matrix1 == matrix2).sum()\n",
    "\n",
    "    rows = img.shape[0]\n",
    "    columns = img.shape[1]\n",
    "    mid = rows//2\n",
    "\n",
    "    mem = np.random.randint(2, size=(2 * population, rows, columns))\n",
    "    scores = np.zeros((2 * population))\n",
    "\n",
    "    for i in range(10000):\n",
    "\n",
    "        for k, matrix in enumerate(mem):\n",
    "            scores[k] = score(matrix, img)\n",
    "\n",
    "        max_score = np.argmax(scores)\n",
    "\n",
    "        if scores[max_score] == rows * columns:\n",
    "            print(i)\n",
    "            plt.imshow(mem[max_score], cmap=plt.cm.gray)  # use appropriate colormap here\n",
    "            plt.show()\n",
    "            break\n",
    "\n",
    "        top_n_scores = np.argpartition(scores, population)\n",
    "        top = top_n_scores[population:]\n",
    "        bottom = top_n_scores[:population]\n",
    "\n",
    "\n",
    "        for j in range(population):\n",
    "            \n",
    "            # I tried this with random choice and just picking a random position\n",
    "            # from the top and the next one and the result is the same but way faster\n",
    "            # It might be because of either the randomization of the initial population or maybe\n",
    "            # the implementation of argpartition? or both?\n",
    "            r = random.randrange(len(top))  \n",
    "            idx = [r, (r+1)%len(top)]\n",
    "            parents = [top[idx[0]],top[idx[1]]]\n",
    "            \n",
    "            mem[bottom[j]][0:mid] = mem[parents[0]][0:mid]\n",
    "            mem[bottom[j]][-(mid+1):] = mem[parents[1]][-(mid+1):]\n",
    "\n",
    "            # The random choice of the bits to mutate is the most costly of the implementation\n",
    "            # It seems there has to be some way to speed up this \n",
    "            idx = np.random.choice([0,1], p=[(1-mutations), mutations],size=(rows,columns))\n",
    "            mem[bottom[j]] = abs(mem[bottom[j]] - idx)\n"
   ]
  },
  {
   "cell_type": "code",
   "execution_count": 126,
   "metadata": {},
   "outputs": [
    {
     "name": "stdout",
     "output_type": "stream",
     "text": [
      "140\n"
     ]
    },
    {
     "data": {
      "image/png": "[encoded data removed]",
      "text/plain": [
       "<Figure size 432x288 with 1 Axes>"
      ]
     },
     "metadata": {
      "needs_background": "light"
     },
     "output_type": "display_data"
    },
    {
     "name": "stdout",
     "output_type": "stream",
     "text": [
      "Timer unit: 1e-09 s\n",
      "\n",
      "Total time: 2.86443 s\n",
      "File: /tmp/ipykernel_32068/3493299968.py\n",
      "Function: ga at line 1\n",
      "\n",
      "Line #      Hits         Time  Per Hit   % Time  Line Contents\n",
      "==============================================================\n",
      "     1                                           def ga(img, population, mutations):\n",
      "     2                                           \n",
      "     3         1       1292.0   1292.0      0.0      def score(matrix1, matrix2):\n",
      "     4                                                   return (matrix1 == matrix2).sum()\n",
      "     5                                           \n",
      "     6         1       3176.0   3176.0      0.0      rows = img.shape[0]\n",
      "     7         1        461.0    461.0      0.0      columns = img.shape[1]\n",
      "     8         1        451.0    451.0      0.0      mid = rows//2\n",
      "     9                                           \n",
      "    10         1    1678025.0 1678025.0      0.1      mem = np.random.randint(2, size=(2 * population, rows, columns))\n",
      "    11         1       6132.0   6132.0      0.0      scores = np.zeros((2 * population))\n",
      "    12                                           \n",
      "    13       141      27235.0    193.2      0.0      for i in range(10000):\n",
      "    14                                           \n",
      "    15    141000   40645808.0    288.3      1.4          for k, matrix in enumerate(mem):\n",
      "    16    141000  407691266.0   2891.4     14.2              scores[k] = score(matrix, img)\n",
      "    17                                           \n",
      "    18       141     647463.0   4591.9      0.0          max_score = np.argmax(scores)\n",
      "    19                                           \n",
      "    20       140     176541.0   1261.0      0.0          if scores[max_score] == rows * columns:\n",
      "    21         1      62036.0  62036.0      0.0              print(i)\n",
      "    22         1   12202083.0 12202083.0      0.4              plt.imshow(mem[max_score], cmap=plt.cm.gray)  # use appropriate colormap here\n",
      "    23         1   69357434.0 69357434.0      2.4              plt.show()\n",
      "    24         1        401.0    401.0      0.0              break\n",
      "    25                                           \n",
      "    26       140    1872241.0  13373.1      0.1          top_n_scores = np.argpartition(scores, population)\n",
      "    27       140      82524.0    589.5      0.0          top = top_n_scores[population:]\n",
      "    28       140      64323.0    459.4      0.0          bottom = top_n_scores[:population]\n",
      "    29                                           \n",
      "    30                                           \n",
      "    31     70000   13901667.0    198.6      0.5          for j in range(population):\n",
      "    32                                                       \n",
      "    33                                                       # I tried this with random choice and just picking a random position\n",
      "    34                                                       # from the top and the next one and the result is the same but way faster\n",
      "    35                                                       # It might be because of either the randomization of the initial population or maybe\n",
      "    36                                                       # the implementation of argpartition? or both?\n",
      "    37     70000  119429295.0   1706.1      4.2              r = random.randrange(len(top))  \n",
      "    38     70000   34374753.0    491.1      1.2              idx = [r, (r+1)%len(top)]\n",
      "    39     70000   31932540.0    456.2      1.1              parents = [top[idx[0]],top[idx[1]]]\n",
      "    40                                                       \n",
      "    41     70000   96148153.0   1373.5      3.4              mem[bottom[j]][0:mid] = mem[parents[0]][0:mid]\n",
      "    42     70000   98478587.0   1406.8      3.4              mem[bottom[j]][-(mid+1):] = mem[parents[1]][-(mid+1):]\n",
      "    43                                           \n",
      "    44                                                       # The random choice of the bits to mutate is the most costly of the implementation\n",
      "    45                                                       # It seems there has to be some way to speed up this \n",
      "    46     70000 1735607353.0  24794.4     60.6              idx = np.random.choice([0,1], p=[(1-mutations), mutations],size=(rows,columns))\n",
      "    47     70000  200037868.0   2857.7      7.0              mem[bottom[j]] = abs(mem[bottom[j]] - idx)"
     ]
    }
   ],
   "source": [
    "%lprun -f ga ga(img, population, mutation)"
   ]
  }
 ],
 "metadata": {
  "kernelspec": {
   "display_name": "Python 3",
   "language": "python",
   "name": "python3"
  },
  "language_info": {
   "codemirror_mode": {
    "name": "ipython",
    "version": 3
   },
   "file_extension": ".py",
   "mimetype": "text/x-python",
   "name": "python",
   "nbconvert_exporter": "python",
   "pygments_lexer": "ipython3",
   "version": "3.9.2"
  },
  "orig_nbformat": 4
 },
 "nbformat": 4,
 "nbformat_minor": 2
}
