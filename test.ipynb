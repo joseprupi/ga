{
 "cells": [
  {
   "cell_type": "code",
   "execution_count": 9,
   "metadata": {},
   "outputs": [
    {
     "name": "stdout",
     "output_type": "stream",
     "text": [
      "The line_profiler extension is already loaded. To reload it, use:\n",
      "  %reload_ext line_profiler\n"
     ]
    }
   ],
   "source": [
    "import random\n",
    "\n",
    "import numpy as np\n",
    "import matplotlib.pyplot as plt\n",
    "\n",
    "%load_ext line_profiler"
   ]
  },
  {
   "cell_type": "code",
   "execution_count": 10,
   "metadata": {},
   "outputs": [],
   "source": [
    "population = 500\n",
    "mutations = 0.005"
   ]
  },
  {
   "cell_type": "code",
   "execution_count": 11,
   "metadata": {},
   "outputs": [
    {
     "data": {
      "image/png": "[encoded data removed]",
      "text/plain": [
       "<Figure size 432x288 with 1 Axes>"
      ]
     },
     "metadata": {
      "needs_background": "light"
     },
     "output_type": "display_data"
    }
   ],
   "source": [
    "img = np.random.randint(2, size=(15,15))\n",
    "plt.imshow(img, cmap=plt.cm.gray)  # use appropriate colormap here\n",
    "plt.show()"
   ]
  },
  {
   "cell_type": "code",
   "execution_count": 12,
   "metadata": {},
   "outputs": [],
   "source": [
    "def ga(array, population, mutations):\n",
    "\n",
    "    def score(matrix1, matrix2):\n",
    "        return (matrix1 == matrix2).sum()\n",
    "\n",
    "    rows = array.shape[0]\n",
    "    columns = array.shape[1]\n",
    "    mid = rows//2\n",
    "\n",
    "    mem = np.random.randint(2, size=(2 * population, rows, columns))\n",
    "    scores = np.zeros((2 * population))\n",
    "    bottom = list(range(len(mem)))\n",
    "\n",
    "    for i in range(1000000):\n",
    "        \n",
    "        # Bottom will contain all the random individuals generated when starting the execution\n",
    "        # and the new individuals after the first iteration. Bottom means the bottom of the list\n",
    "        # sorted by score\n",
    "        for k in bottom:\n",
    "            scores[k] = score(mem[k], array)\n",
    "\n",
    "        # Check if the solution has been found\n",
    "        max_score = np.argmax(scores)\n",
    "        if scores[max_score] == rows * columns:\n",
    "            print(i)\n",
    "            plt.imshow(mem[max_score], cmap=plt.cm.gray)  # use appropriate colormap here\n",
    "            plt.show()\n",
    "            break\n",
    "\n",
    "        # Select the population of individuals according to the score function\n",
    "        top_n_scores = np.argpartition(scores, population)\n",
    "        top = top_n_scores[population:]\n",
    "        bottom = top_n_scores[:population]\n",
    "\n",
    "        # Create #population new elements from the crossover and mutation\n",
    "        for j in range(population):\n",
    "            \n",
    "            # Crossover -> Select parents from the top individuals\n",
    "            #\n",
    "            # I tried this with random choice and just picking a random position\n",
    "            # from the top and the next one and the result is the same but way faster\n",
    "            # It might be because of either the randomization of the initial population or maybe\n",
    "            # the implementation of argpartition? or both?\n",
    "            r = random.randrange(len(top))  \n",
    "            idx = [r, (r+1)%len(top)]\n",
    "            parents = [top[idx[0]],top[idx[1]]]\n",
    "            \n",
    "            mem[bottom[j]][0:mid] = mem[parents[0]][0:mid]\n",
    "            mem[bottom[j]][-(mid+1):] = mem[parents[1]][-(mid+1):]\n",
    "\n",
    "            # Mutation -> Mutate the bits\n",
    "            #\n",
    "            # The random choice of the bits to mutate is the most costly of the implementation\n",
    "            # It seems there has to be some way to speed up this \n",
    "            idx = np.random.choice([0,1], p=[(1-mutations), mutations],size=(rows,columns))\n",
    "            mem[bottom[j]] = abs(mem[bottom[j]] - idx)\n"
   ]
  },
  {
   "cell_type": "code",
   "execution_count": 15,
   "metadata": {},
   "outputs": [
    {
     "name": "stdout",
     "output_type": "stream",
     "text": [
      "152\n"
     ]
    },
    {
     "data": {
      "image/png": "[encoded data removed]",
      "text/plain": [
       "<Figure size 432x288 with 1 Axes>"
      ]
     },
     "metadata": {
      "needs_background": "light"
     },
     "output_type": "display_data"
    },
    {
     "name": "stdout",
     "output_type": "stream",
     "text": [
      "Timer unit: 1e-09 s\n",
      "\n",
      "Total time: 2.91054 s\n",
      "File: /tmp/ipykernel_14420/3479254732.py\n",
      "Function: ga at line 1\n",
      "\n",
      "Line #      Hits         Time  Per Hit   % Time  Line Contents\n",
      "==============================================================\n",
      "     1                                           def ga(array, population, mutations):\n",
      "     2                                           \n",
      "     3         1       1282.0   1282.0      0.0      def score(matrix1, matrix2):\n",
      "     4                                                   return (matrix1 == matrix2).sum()\n",
      "     5                                           \n",
      "     6         1       2625.0   2625.0      0.0      rows = array.shape[0]\n",
      "     7         1        461.0    461.0      0.0      columns = array.shape[1]\n",
      "     8         1        601.0    601.0      0.0      mid = rows//2\n",
      "     9                                           \n",
      "    10         1    1676913.0 1676913.0      0.1      mem = np.random.randint(2, size=(2 * population, rows, columns))\n",
      "    11         1       5760.0   5760.0      0.0      scores = np.zeros((2 * population))\n",
      "    12         1      30417.0  30417.0      0.0      bottom = list(range(len(mem)))\n",
      "    13                                           \n",
      "    14       153      29743.0    194.4      0.0      for i in range(1000000):\n",
      "    15                                                   \n",
      "    16                                                   # Bottom will contain all the random individuals generated when starting the execution\n",
      "    17                                                   # and the new individuals after the first iteration. Bottom means the bottom of the list\n",
      "    18                                                   # sorted by score\n",
      "    19     77000   17660405.0    229.4      0.6          for k in bottom:\n",
      "    20     77000  254449828.0   3304.5      8.7              scores[k] = score(mem[k], array)\n",
      "    21                                           \n",
      "    22                                                   # Check if the solution has been found\n",
      "    23       153     727064.0   4752.1      0.0          max_score = np.argmax(scores)\n",
      "    24       152     165731.0   1090.3      0.0          if scores[max_score] == rows * columns:\n",
      "    25         1      36208.0  36208.0      0.0              print(i)\n",
      "    26         1   12530321.0 12530321.0      0.4              plt.imshow(mem[max_score], cmap=plt.cm.gray)  # use appropriate colormap here\n",
      "    27         1   72725727.0 72725727.0      2.5              plt.show()\n",
      "    28         1        311.0    311.0      0.0              break\n",
      "    29                                           \n",
      "    30                                                   # Select the population of individuals according to the score function\n",
      "    31       152    2068159.0  13606.3      0.1          top_n_scores = np.argpartition(scores, population)\n",
      "    32       152      82533.0    543.0      0.0          top = top_n_scores[population:]\n",
      "    33       152      72931.0    479.8      0.0          bottom = top_n_scores[:population]\n",
      "    34                                           \n",
      "    35                                                   # Create #population new elements from the crossover and mutation\n",
      "    36     76000   13110151.0    172.5      0.5          for j in range(population):\n",
      "    37                                                       \n",
      "    38                                                       # Crossover -> Select parents from the top individuals\n",
      "    39                                                       #\n",
      "    40                                                       # I tried this with random choice and just picking a random position\n",
      "    41                                                       # from the top and the next one and the result is the same but way faster\n",
      "    42                                                       # It might be because of either the randomization of the initial population or maybe\n",
      "    43                                                       # the implementation of argpartition? or both?\n",
      "    44     76000  133796558.0   1760.5      4.6              r = random.randrange(len(top))  \n",
      "    45     76000   36166819.0    475.9      1.2              idx = [r, (r+1)%len(top)]\n",
      "    46     76000   35781320.0    470.8      1.2              parents = [top[idx[0]],top[idx[1]]]\n",
      "    47                                                       \n",
      "    48     76000  105451391.0   1387.5      3.6              mem[bottom[j]][0:mid] = mem[parents[0]][0:mid]\n",
      "    49     76000  109469618.0   1440.4      3.8              mem[bottom[j]][-(mid+1):] = mem[parents[1]][-(mid+1):]\n",
      "    50                                           \n",
      "    51                                                       # Mutation -> Mutate the bits\n",
      "    52                                                       #\n",
      "    53                                                       # The random choice of the bits to mutate is the most costly of the implementation\n",
      "    54                                                       # It seems there has to be some way to speed up this \n",
      "    55     76000 1897714973.0  24969.9     65.2              idx = np.random.choice([0,1], p=[(1-mutations), mutations],size=(rows,columns))\n",
      "    56     76000  216780502.0   2852.4      7.4              mem[bottom[j]] = abs(mem[bottom[j]] - idx)"
     ]
    }
   ],
   "source": [
    "%lprun -f ga ga(img, population, mutations)"
   ]
  }
 ],
 "metadata": {
  "kernelspec": {
   "display_name": "Python 3",
   "language": "python",
   "name": "python3"
  },
  "language_info": {
   "codemirror_mode": {
    "name": "ipython",
    "version": 3
   },
   "file_extension": ".py",
   "mimetype": "text/x-python",
   "name": "python",
   "nbconvert_exporter": "python",
   "pygments_lexer": "ipython3",
   "version": "3.9.2"
  },
  "orig_nbformat": 4
 },
 "nbformat": 4,
 "nbformat_minor": 2
}
