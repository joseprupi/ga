{
 "cells": [
  {
   "cell_type": "code",
   "execution_count": 1,
   "metadata": {},
   "outputs": [],
   "source": [
    "import random\n",
    "\n",
    "import numpy as np\n",
    "import matplotlib.pyplot as plt\n",
    "\n",
    "%load_ext line_profiler"
   ]
  },
  {
   "cell_type": "code",
   "execution_count": 2,
   "metadata": {},
   "outputs": [],
   "source": [
    "population = 500\n",
    "mutations = 0.005"
   ]
  },
  {
   "cell_type": "code",
   "execution_count": 3,
   "metadata": {},
   "outputs": [
    {
     "data": {
      "image/png": "[encoded data removed]",
      "text/plain": [
       "<Figure size 432x288 with 1 Axes>"
      ]
     },
     "metadata": {
      "needs_background": "light"
     },
     "output_type": "display_data"
    }
   ],
   "source": [
    "img = np.random.randint(2, size=(15,15))\n",
    "plt.imshow(img, cmap=plt.cm.gray)  # use appropriate colormap here\n",
    "plt.show()"
   ]
  },
  {
   "cell_type": "code",
   "execution_count": 4,
   "metadata": {},
   "outputs": [],
   "source": [
    "def ga(img, population, mutations):\n",
    "\n",
    "    rows = img.shape[0]\n",
    "    columns = img.shape[1]\n",
    "\n",
    "    mem = np.random.randint(2, size=(2 * population, rows, columns))\n",
    "\n",
    "    def score(matrix1, matrix2):\n",
    "        return (matrix1 == matrix2).sum()\n",
    "\n",
    "    scores = np.zeros((2 * population))\n",
    "\n",
    "    for i in range(100000000):\n",
    "\n",
    "        for k, matrix in enumerate(mem):\n",
    "            scores[k] = score(matrix, img)\n",
    "\n",
    "        max_score = np.argmax(scores)\n",
    "\n",
    "        if scores[max_score] == rows * columns:\n",
    "            print(i)\n",
    "            plt.imshow(mem[max_score], cmap=plt.cm.gray)  # use appropriate colormap here\n",
    "            plt.show()\n",
    "            break\n",
    "\n",
    "        top_n_scores = np.argpartition(scores, -population)\n",
    "\n",
    "        top = top_n_scores[-population:]\n",
    "        bottom = top_n_scores[:-population]\n",
    "\n",
    "        mid = rows//2\n",
    "\n",
    "        for j in range(population):\n",
    "            \n",
    "            r = random.randrange(len(top))  \n",
    "            idx = [r, (r+1)%len(top)]\n",
    "            parents = [top[idx[0]],top[idx[1]]]\n",
    "            \n",
    "            mem[bottom[j]][0:mid] = mem[parents[0]][0:mid]\n",
    "            mem[bottom[j]][-(mid+1):] = mem[parents[1]][-(mid+1):]\n",
    "\n",
    "            idx = np.random.choice([0,1], p=[(1-mutations), mutations],size=(rows,columns))\n",
    "            mem[bottom[j]] = abs(mem[bottom[j]] - idx)\n"
   ]
  },
  {
   "cell_type": "code",
   "execution_count": 6,
   "metadata": {},
   "outputs": [
    {
     "name": "stdout",
     "output_type": "stream",
     "text": [
      "152\n"
     ]
    },
    {
     "data": {
      "image/png": "[encoded data removed]",
      "text/plain": [
       "<Figure size 432x288 with 1 Axes>"
      ]
     },
     "metadata": {
      "needs_background": "light"
     },
     "output_type": "display_data"
    },
    {
     "name": "stdout",
     "output_type": "stream",
     "text": [
      "Timer unit: 1e-09 s\n",
      "\n",
      "Total time: 3.02834 s\n",
      "File: /tmp/ipykernel_20536/811191359.py\n",
      "Function: ga at line 1\n",
      "\n",
      "Line #      Hits         Time  Per Hit   % Time  Line Contents\n",
      "==============================================================\n",
      "     1                                           def ga(img, population, mutations):\n",
      "     2                                           \n",
      "     3         1       5310.0   5310.0      0.0      rows = img.shape[0]\n",
      "     4         1        631.0    631.0      0.0      columns = img.shape[1]\n",
      "     5                                           \n",
      "     6         1    2538850.0 2538850.0      0.1      mem = np.random.randint(2, size=(2 * population, rows, columns))\n",
      "     7                                           \n",
      "     8         1        912.0    912.0      0.0      def score(matrix1, matrix2):\n",
      "     9                                                   return (matrix1 == matrix2).sum()\n",
      "    10                                           \n",
      "    11         1       6833.0   6833.0      0.0      scores = np.zeros((2 * population))\n",
      "    12                                           \n",
      "    13       153      32669.0    213.5      0.0      for i in range(100000000):\n",
      "    14                                           \n",
      "    15    153000   44399810.0    290.2      1.5          for k, matrix in enumerate(mem):\n",
      "    16    153000  446382097.0   2917.5     14.7              scores[k] = score(matrix, img)\n",
      "    17                                           \n",
      "    18       153     723514.0   4728.8      0.0          max_score = np.argmax(scores)\n",
      "    19                                           \n",
      "    20       152     178081.0   1171.6      0.0          if scores[max_score] == rows * columns:\n",
      "    21         1      65393.0  65393.0      0.0              print(i)\n",
      "    22         1   12336195.0 12336195.0      0.4              plt.imshow(mem[max_score], cmap=plt.cm.gray)  # use appropriate colormap here\n",
      "    23         1   70789880.0 70789880.0      2.3              plt.show()\n",
      "    24         1        291.0    291.0      0.0              break\n",
      "    25                                           \n",
      "    26       152    2094892.0  13782.2      0.1          top_n_scores = np.argpartition(scores, -population)\n",
      "    27                                           \n",
      "    28       152      96082.0    632.1      0.0          top = top_n_scores[-population:]\n",
      "    29       152      81102.0    533.6      0.0          bottom = top_n_scores[:-population]\n",
      "    30                                           \n",
      "    31       152      34652.0    228.0      0.0          mid = rows//2\n",
      "    32                                           \n",
      "    33     76000   13133600.0    172.8      0.4          for j in range(population):\n",
      "    34                                                       \n",
      "    35     76000  129088556.0   1698.5      4.3              r = random.randrange(len(top))  \n",
      "    36     76000   33861341.0    445.5      1.1              idx = [r, (r+1)%len(top)]\n",
      "    37     76000   33503513.0    440.8      1.1              parents = [top[idx[0]],top[idx[1]]]\n",
      "    38                                                       \n",
      "    39     76000  100879258.0   1327.4      3.3              mem[bottom[j]][0:mid] = mem[parents[0]][0:mid]\n",
      "    40     76000  106694224.0   1403.9      3.5              mem[bottom[j]][-(mid+1):] = mem[parents[1]][-(mid+1):]\n",
      "    41                                           \n",
      "    42     76000 1823479253.0  23993.1     60.2              idx = np.random.choice([0,1], p=[(1-mutations), mutations],size=(rows,columns))\n",
      "    43     76000  207936489.0   2736.0      6.9              mem[bottom[j]] = abs(mem[bottom[j]] - idx)"
     ]
    }
   ],
   "source": [
    "%lprun -f ga ga(img, population, mutations)"
   ]
  }
 ],
 "metadata": {
  "kernelspec": {
   "display_name": "Python 3",
   "language": "python",
   "name": "python3"
  },
  "language_info": {
   "codemirror_mode": {
    "name": "ipython",
    "version": 3
   },
   "file_extension": ".py",
   "mimetype": "text/x-python",
   "name": "python",
   "nbconvert_exporter": "python",
   "pygments_lexer": "ipython3",
   "version": "3.9.2"
  },
  "orig_nbformat": 4
 },
 "nbformat": 4,
 "nbformat_minor": 2
}
