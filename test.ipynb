{
 "cells": [
  {
   "cell_type": "code",
   "execution_count": 129,
   "metadata": {},
   "outputs": [
    {
     "name": "stdout",
     "output_type": "stream",
     "text": [
      "The line_profiler extension is already loaded. To reload it, use:\n",
      "  %reload_ext line_profiler\n"
     ]
    }
   ],
   "source": [
    "import random\n",
    "\n",
    "import numpy as np\n",
    "import matplotlib.pyplot as plt\n",
    "\n",
    "%load_ext line_profiler"
   ]
  },
  {
   "cell_type": "code",
   "execution_count": 149,
   "metadata": {},
   "outputs": [],
   "source": [
    "population = 500\n",
    "mutations = 0.005"
   ]
  },
  {
   "cell_type": "code",
   "execution_count": 131,
   "metadata": {},
   "outputs": [
    {
     "data": {
      "image/png": "[encoded data removed]",
      "text/plain": [
       "<Figure size 432x288 with 1 Axes>"
      ]
     },
     "metadata": {
      "needs_background": "light"
     },
     "output_type": "display_data"
    }
   ],
   "source": [
    "img = np.random.randint(2, size=(15,15))\n",
    "plt.imshow(img, cmap=plt.cm.gray)  # use appropriate colormap here\n",
    "plt.show()"
   ]
  },
  {
   "cell_type": "code",
   "execution_count": 144,
   "metadata": {},
   "outputs": [],
   "source": [
    "def ga(img, population, mutations):\n",
    "\n",
    "    def score(matrix1, matrix2):\n",
    "        return (matrix1 == matrix2).sum()\n",
    "\n",
    "    rows = img.shape[0]\n",
    "    columns = img.shape[1]\n",
    "    mid = rows//2\n",
    "\n",
    "    mem = np.random.randint(2, size=(2 * population, rows, columns))\n",
    "    scores = np.zeros((2 * population))\n",
    "    bottom = list(range(len(mem)))\n",
    "\n",
    "    for i in range(1000000):\n",
    "\n",
    "        for k in bottom:\n",
    "            scores[k] = score(mem[k], img)\n",
    "\n",
    "        max_score = np.argmax(scores)\n",
    "\n",
    "        if scores[max_score] == rows * columns:\n",
    "            print(i)\n",
    "            plt.imshow(mem[max_score], cmap=plt.cm.gray)  # use appropriate colormap here\n",
    "            plt.show()\n",
    "            break\n",
    "\n",
    "        top_n_scores = np.argpartition(scores, population)\n",
    "        top = top_n_scores[population:]\n",
    "        bottom = top_n_scores[:population]\n",
    "\n",
    "\n",
    "        for j in range(population):\n",
    "            \n",
    "            # I tried this with random choice and just picking a random position\n",
    "            # from the top and the next one and the result is the same but way faster\n",
    "            # It might be because of either the randomization of the initial population or maybe\n",
    "            # the implementation of argpartition? or both?\n",
    "            r = random.randrange(len(top))  \n",
    "            idx = [r, (r+1)%len(top)]\n",
    "            parents = [top[idx[0]],top[idx[1]]]\n",
    "            \n",
    "            mem[bottom[j]][0:mid] = mem[parents[0]][0:mid]\n",
    "            mem[bottom[j]][-(mid+1):] = mem[parents[1]][-(mid+1):]\n",
    "\n",
    "            # The random choice of the bits to mutate is the most costly of the implementation\n",
    "            # It seems there has to be some way to speed up this \n",
    "            idx = np.random.choice([0,1], p=[(1-mutations), mutations],size=(rows,columns))\n",
    "            mem[bottom[j]] = abs(mem[bottom[j]] - idx)\n"
   ]
  },
  {
   "cell_type": "code",
   "execution_count": 148,
   "metadata": {},
   "outputs": [
    {
     "name": "stdout",
     "output_type": "stream",
     "text": [
      "603\n"
     ]
    },
    {
     "data": {
      "image/png": "[encoded data removed]",
      "text/plain": [
       "<Figure size 432x288 with 1 Axes>"
      ]
     },
     "metadata": {
      "needs_background": "light"
     },
     "output_type": "display_data"
    }
   ],
   "source": [
    "ga(img, population, mutations)"
   ]
  },
  {
   "cell_type": "code",
   "execution_count": 154,
   "metadata": {},
   "outputs": [
    {
     "name": "stdout",
     "output_type": "stream",
     "text": [
      "148\n"
     ]
    },
    {
     "data": {
      "image/png": "[encoded data removed]",
      "text/plain": [
       "<Figure size 432x288 with 1 Axes>"
      ]
     },
     "metadata": {
      "needs_background": "light"
     },
     "output_type": "display_data"
    },
    {
     "name": "stdout",
     "output_type": "stream",
     "text": [
      "Timer unit: 1e-09 s\n",
      "\n",
      "Total time: 2.81585 s\n",
      "File: /tmp/ipykernel_32068/878045165.py\n",
      "Function: ga at line 1\n",
      "\n",
      "Line #      Hits         Time  Per Hit   % Time  Line Contents\n",
      "==============================================================\n",
      "     1                                           def ga(img, population, mutations):\n",
      "     2                                           \n",
      "     3         1       1052.0   1052.0      0.0      def score(matrix1, matrix2):\n",
      "     4                                                   return (matrix1 == matrix2).sum()\n",
      "     5                                           \n",
      "     6         1       2625.0   2625.0      0.0      rows = img.shape[0]\n",
      "     7         1        491.0    491.0      0.0      columns = img.shape[1]\n",
      "     8         1        430.0    430.0      0.0      mid = rows//2\n",
      "     9                                           \n",
      "    10         1    1757625.0 1757625.0      0.1      mem = np.random.randint(2, size=(2 * population, rows, columns))\n",
      "    11         1       8065.0   8065.0      0.0      scores = np.zeros((2 * population))\n",
      "    12         1      18675.0  18675.0      0.0      bottom = list(range(len(mem)))\n",
      "    13                                           \n",
      "    14       149      31383.0    210.6      0.0      for i in range(1000000):\n",
      "    15                                           \n",
      "    16     75000   14898444.0    198.6      0.5          for k in bottom:\n",
      "    17     75000  240275105.0   3203.7      8.5              scores[k] = score(mem[k], img)\n",
      "    18                                           \n",
      "    19       149     682608.0   4581.3      0.0          max_score = np.argmax(scores)\n",
      "    20                                           \n",
      "    21       148     160471.0   1084.3      0.0          if scores[max_score] == rows * columns:\n",
      "    22         1      36027.0  36027.0      0.0              print(i)\n",
      "    23         1   12219783.0 12219783.0      0.4              plt.imshow(mem[max_score], cmap=plt.cm.gray)  # use appropriate colormap here\n",
      "    24         1   69513909.0 69513909.0      2.5              plt.show()\n",
      "    25         1        451.0    451.0      0.0              break\n",
      "    26                                           \n",
      "    27       148    2232858.0  15086.9      0.1          top_n_scores = np.argpartition(scores, population)\n",
      "    28       148      87683.0    592.5      0.0          top = top_n_scores[population:]\n",
      "    29       148      77336.0    522.5      0.0          bottom = top_n_scores[:population]\n",
      "    30                                           \n",
      "    31                                           \n",
      "    32     74000   14452138.0    195.3      0.5          for j in range(population):\n",
      "    33                                                       \n",
      "    34                                                       # I tried this with random choice and just picking a random position\n",
      "    35                                                       # from the top and the next one and the result is the same but way faster\n",
      "    36                                                       # It might be because of either the randomization of the initial population or maybe\n",
      "    37                                                       # the implementation of argpartition? or both?\n",
      "    38     74000  129059090.0   1744.0      4.6              r = random.randrange(len(top))  \n",
      "    39     74000   35668667.0    482.0      1.3              idx = [r, (r+1)%len(top)]\n",
      "    40     74000   34065728.0    460.3      1.2              parents = [top[idx[0]],top[idx[1]]]\n",
      "    41                                                       \n",
      "    42     74000  100821336.0   1362.5      3.6              mem[bottom[j]][0:mid] = mem[parents[0]][0:mid]\n",
      "    43     74000  104367099.0   1410.4      3.7              mem[bottom[j]][-(mid+1):] = mem[parents[1]][-(mid+1):]\n",
      "    44                                           \n",
      "    45                                                       # The random choice of the bits to mutate is the most costly of the implementation\n",
      "    46                                                       # It seems there has to be some way to speed up this \n",
      "    47     74000 1844429140.0  24924.7     65.5              idx = np.random.choice([0,1], p=[(1-mutations), mutations],size=(rows,columns))\n",
      "    48     74000  210982210.0   2851.1      7.5              mem[bottom[j]] = abs(mem[bottom[j]] - idx)"
     ]
    }
   ],
   "source": [
    "%lprun -f ga ga(img, population, mutations)"
   ]
  }
 ],
 "metadata": {
  "kernelspec": {
   "display_name": "Python 3",
   "language": "python",
   "name": "python3"
  },
  "language_info": {
   "codemirror_mode": {
    "name": "ipython",
    "version": 3
   },
   "file_extension": ".py",
   "mimetype": "text/x-python",
   "name": "python",
   "nbconvert_exporter": "python",
   "pygments_lexer": "ipython3",
   "version": "3.9.2"
  },
  "orig_nbformat": 4
 },
 "nbformat": 4,
 "nbformat_minor": 2
}
